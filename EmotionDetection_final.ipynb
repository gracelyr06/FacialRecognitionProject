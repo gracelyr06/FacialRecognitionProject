{
  "nbformat": 4,
  "nbformat_minor": 0,
  "metadata": {
    "colab": {
      "name": "EmotionDetection_final.ipynb",
      "provenance": [],
      "collapsed_sections": [],
      "include_colab_link": true
    },
    "kernelspec": {
      "name": "python3",
      "display_name": "Python 3"
    },
    "accelerator": "GPU"
  },
  "cells": [
    {
      "cell_type": "markdown",
      "metadata": {
        "id": "view-in-github",
        "colab_type": "text"
      },
      "source": [
        "<a href=\"https://colab.research.google.com/github/gracelyr06/FacialRecognitionProject/blob/main/EmotionDetection_final.ipynb\" target=\"_parent\"><img src=\"https://colab.research.google.com/assets/colab-badge.svg\" alt=\"Open In Colab\"/></a>"
      ]
    },
    {
      "cell_type": "code",
      "metadata": {
        "id": "Qhr-G_92H2Bc",
        "colab": {
          "base_uri": "https://localhost:8080/"
        },
        "outputId": "38bafc0c-56f2-443b-d27f-75712ec3e6fe"
      },
      "source": [
        "#@title Run this to download data and prepare our environment!  { display-mode: \"form\" }\n",
        "\n",
        "import cv2\n",
        "import dlib\n",
        "import pickle\n",
        "import warnings\n",
        "import numpy as np\n",
        "import pandas as pd\n",
        "import seaborn as sns\n",
        "import itertools \n",
        "\n",
        "import urllib.request\n",
        "\n",
        "from sklearn import metrics\n",
        "from scipy.spatial import distance\n",
        "from sklearn.metrics import accuracy_score\n",
        "from matplotlib import pyplot as plt\n",
        "from tqdm import tqdm,tqdm_pandas\n",
        "from sklearn.preprocessing import StandardScaler\n",
        "from sklearn.model_selection import train_test_split\n",
        "\n",
        "import re\n",
        "import keras\n",
        "\n",
        "from keras.models import Sequential\n",
        "from tensorflow.keras.utils import to_categorical\n",
        "from tensorflow.keras.optimizers import Adam, SGD\n",
        "from keras.layers import Dense, Dropout, Activation, Flatten\n",
        "from keras.layers import Conv2D, MaxPooling2D, BatchNormalization\n",
        "from keras.losses import categorical_crossentropy\n",
        "from keras.regularizers import l2\n",
        "from keras.callbacks import EarlyStopping, ModelCheckpoint\n",
        "from keras.models import load_model\n",
        "\n",
        "# grab tools from our tensorflow and keras toolboxes!\n",
        "import tensorflow as tf\n",
        "from keras.models import Sequential\n",
        "from keras.layers import Activation, Dropout, Flatten, Dense\n",
        "from keras import optimizers\n",
        "\n",
        "warnings.filterwarnings(\"ignore\")\n",
        "def model_to_string(model):\n",
        "    import re\n",
        "    stringlist = []\n",
        "    model.summary(print_fn=lambda x: stringlist.append(x))\n",
        "    sms = \"\\n\".join(stringlist)\n",
        "    sms = re.sub('_\\d\\d\\d','', sms)\n",
        "    sms = re.sub('_\\d\\d','', sms)\n",
        "    sms = re.sub('_\\d','', sms)  \n",
        "    return sms\n",
        "\n",
        "###Getting the csv data loaded\n",
        "!wget -O ./ferdata.csv \"https://storage.googleapis.com/inspirit-ai-data-bucket-1/Data/AI%20Scholars/Sessions%206%20-%2010%20(Projects)/Project%20-%20Emotion%20Detection/fer2013_5.csv\"\n",
        "\n",
        "###Getting the Dlib Shape predictor!\n",
        "!wget -O ./shape_predictor_68_face_landmarks.dat \"https://storage.googleapis.com/inspirit-ai-data-bucket-1/Data/AI%20Scholars/Sessions%206%20-%2010%20(Projects)/Project%20-%20Emotion%20Detection/shape_predictor_68_face_landmarks.dat\"\n",
        "\n",
        "###Getting the Xpure loaded\n",
        "!wget -O ./pureX.npy \"https://storage.googleapis.com/inspirit-ai-data-bucket-1/Data/AI%20Scholars/Sessions%206%20-%2010%20(Projects)/Project%20-%20Emotion%20Detection/pureX.npy\"\n",
        "\n",
        "###Getting the Xdata loaded\n",
        "!wget -O ./dataX.npy \"https://storage.googleapis.com/inspirit-ai-data-bucket-1/Data/AI%20Scholars/Sessions%206%20-%2010%20(Projects)/Project%20-%20Emotion%20Detection/dataX_edited.npy\"\n",
        "\n",
        "###Getting the Ydata loaded\n",
        "!wget -O ./dataY.npy \"https://storage.googleapis.com/inspirit-ai-data-bucket-1/Data/AI%20Scholars/Sessions%206%20-%2010%20(Projects)/Project%20-%20Emotion%20Detection/dataY.npy\"\n",
        "\n",
        "print (\"Data Downloaded!\")\n",
        "\n",
        "'''\n",
        "Plots the confusion Matrix and saves it\n",
        "'''\n",
        "def plot_confusion_matrix(y_true,y_predicted):\n",
        "  cm = metrics.confusion_matrix(y_true, y_predicted)\n",
        "  print (\"Plotting the Confusion Matrix\")\n",
        "  labels = list(label_map.values())\n",
        "  df_cm = pd.DataFrame(cm,index = labels,columns = labels)\n",
        "  fig = plt.figure()\n",
        "  res = sns.heatmap(df_cm, annot=True,cmap='Blues', fmt='g')\n",
        "  plt.yticks([0.5,1.5,2.5,3.5,4.5], labels,va='center')\n",
        "  plt.title('Confusion Matrix - TestData')\n",
        "  plt.ylabel('True label')\n",
        "  plt.xlabel('Predicted label')\n",
        " \n",
        "  plt.show()\n",
        "  plt.close()\n",
        "\n",
        "def plot_graphs(history, best):\n",
        "  \n",
        "  plt.figure(figsize=[10,4])\n",
        "  # summarize history for accuracy\n",
        "  plt.subplot(121)\n",
        "  plt.plot(history.history['accuracy'])\n",
        "  plt.plot(history.history['val_accuracy'])\n",
        "  plt.title('model accuracy across training\\n best accuracy of %.02f'%best[1])\n",
        "  plt.ylabel('accuracy')\n",
        "  plt.xlabel('epoch')\n",
        "  plt.legend(['train', 'test'], loc='upper left')\n",
        "  \n",
        "  # summarize history for loss\n",
        "  plt.subplot(122)\n",
        "  plt.plot(history.history['loss'])\n",
        "  plt.plot(history.history['val_loss'])\n",
        "  plt.title('model loss across training\\n best loss of %.02f'%best[0])\n",
        "  plt.ylabel('loss')\n",
        "  plt.xlabel('epoch')\n",
        "  plt.legend(['train', 'test'], loc='upper left')\n",
        "  plt.show()\n",
        "\n",
        "#Integer to Label Mapping\n",
        "label_map = {\"0\":\"ANGRY\",\"1\":\"HAPPY\",\"2\":\"SAD\",\"3\":\"SURPRISE\",\"4\":\"NEUTRAL\"}\n",
        "\n",
        "\n",
        "#Load the 68 face Landmark file\n",
        "predictor = dlib.shape_predictor('./shape_predictor_68_face_landmarks.dat')\n",
        "\"\"\"\n",
        "Returns facial landmarks for the given input image path\n",
        "\"\"\"\n",
        "def get_landmarks(image):\n",
        "  \n",
        "  \n",
        "  #:type image : cv2 object\n",
        "  #:rtype landmarks : list of tuples where each tuple represents \n",
        "  #                  the x and y co-ordinates of facial keypoints\n",
        "  \n",
        "  #Bounding Box co-ordinates around the face(Training data is 48*48(cropped faces))\n",
        "  rects = [dlib.rectangle(left=1, top=1, right=47, bottom=47)]\n",
        "\n",
        "  #Read Image using OpenCV\n",
        "  #image = cv2.imread(image_path)\n",
        "  #Detect the Faces within the image\n",
        "  landmarks = [(p.x, p.y) for p in predictor(image, rects[0]).parts()]\n",
        "  return image,landmarks\n",
        "\n",
        "\"\"\"\n",
        "Display image with its Facial Landmarks\n",
        "\"\"\"\n",
        "def image_landmarks(image,face_landmarks):\n",
        "  \"\"\"\n",
        "  :type image_path : str\n",
        "  :type face_landmarks : list of tuples where each tuple represents \n",
        "                     the x and y co-ordinates of facial keypoints\n",
        "  :rtype : None\n",
        "  \"\"\"\n",
        "  radius = -4\n",
        "  circle_thickness = 1\n",
        "  image_copy = image.copy()\n",
        "  for (x, y) in face_landmarks:\n",
        "    cv2.circle(image_copy, (x, y), circle_thickness, (255,0,0), radius)\n",
        "    \n",
        "  plt.imshow(image_copy, interpolation='nearest')\n",
        "  plt.show()\n",
        "  \n",
        "\"\"\"\n",
        "Computes euclidean distance between 68 Landmark Points for our features\n",
        "e_dist is a list of features that will go into our model.\n",
        "Each feature is a distance between two landmark points, and every pair of points\n",
        "must have a feature.\n",
        "\"\"\"\n",
        "  \n",
        "def landmarks_edist(face_landmarks):\n",
        "    e_dist = []\n",
        "    for i,j  in itertools.combinations(range(68), 2):\n",
        "      e_dist.append(distance.euclidean(face_landmarks[i],face_landmarks[j]))\n",
        "    return e_dist\n",
        "  \n",
        "def compare_learning(mlp, lm, cnn, vgg): # there's one model missing: MLP from pixels\n",
        "  \n",
        "  # summarize history for accuracy\n",
        "  plt.plot(vgg.history['val_accuracy'],)\n",
        "  plt.plot(cnn.history['val_accuracy'])\n",
        "  plt.plot(mlp.history['val_accuracy'],)\n",
        "  plt.plot(lm.history['val_accuracy'])\n",
        "  plt.ylabel('validitation accuracy')\n",
        "  plt.xlabel('epoch')\n",
        "  plt.legend(['cnn_transfer', 'cnn_scratch', 'mlp_pixels', 'mlp_landmarks'], bbox_to_anchor=[1,1])\n",
        "  plt.xticks(range(0, epochs+1, 5), range(0, epochs+1, 5))\n",
        "  plt.show()\n"
      ],
      "execution_count": null,
      "outputs": [
        {
          "output_type": "stream",
          "name": "stdout",
          "text": [
            "--2022-05-19 23:47:16--  https://storage.googleapis.com/inspirit-ai-data-bucket-1/Data/AI%20Scholars/Sessions%206%20-%2010%20(Projects)/Project%20-%20Emotion%20Detection/fer2013_5.csv\n",
            "Resolving storage.googleapis.com (storage.googleapis.com)... 74.125.200.128, 74.125.68.128, 74.125.24.128, ...\n",
            "Connecting to storage.googleapis.com (storage.googleapis.com)|74.125.200.128|:443... connected.\n",
            "HTTP request sent, awaiting response... 200 OK\n",
            "Length: 167738172 (160M) [text/csv]\n",
            "Saving to: ‘./ferdata.csv’\n",
            "\n",
            "./ferdata.csv       100%[===================>] 159.97M  60.0MB/s    in 2.7s    \n",
            "\n",
            "2022-05-19 23:47:19 (60.0 MB/s) - ‘./ferdata.csv’ saved [167738172/167738172]\n",
            "\n",
            "--2022-05-19 23:47:20--  https://storage.googleapis.com/inspirit-ai-data-bucket-1/Data/AI%20Scholars/Sessions%206%20-%2010%20(Projects)/Project%20-%20Emotion%20Detection/shape_predictor_68_face_landmarks.dat\n",
            "Resolving storage.googleapis.com (storage.googleapis.com)... 142.251.10.128, 74.125.200.128, 74.125.68.128, ...\n",
            "Connecting to storage.googleapis.com (storage.googleapis.com)|142.251.10.128|:443... connected.\n",
            "HTTP request sent, awaiting response... 200 OK\n",
            "Length: 99693937 (95M) [application/octet-stream]\n",
            "Saving to: ‘./shape_predictor_68_face_landmarks.dat’\n",
            "\n",
            "./shape_predictor_6 100%[===================>]  95.08M  43.5MB/s    in 2.2s    \n",
            "\n",
            "2022-05-19 23:47:23 (43.5 MB/s) - ‘./shape_predictor_68_face_landmarks.dat’ saved [99693937/99693937]\n",
            "\n",
            "--2022-05-19 23:47:23--  https://storage.googleapis.com/inspirit-ai-data-bucket-1/Data/AI%20Scholars/Sessions%206%20-%2010%20(Projects)/Project%20-%20Emotion%20Detection/pureX.npy\n",
            "Resolving storage.googleapis.com (storage.googleapis.com)... 74.125.200.128, 74.125.68.128, 74.125.24.128, ...\n",
            "Connecting to storage.googleapis.com (storage.googleapis.com)|74.125.200.128|:443... connected.\n",
            "HTTP request sent, awaiting response... 200 OK\n",
            "Length: 46080128 (44M) [application/octet-stream]\n",
            "Saving to: ‘./pureX.npy’\n",
            "\n",
            "./pureX.npy         100%[===================>]  43.95M  36.6MB/s    in 1.2s    \n",
            "\n",
            "2022-05-19 23:47:25 (36.6 MB/s) - ‘./pureX.npy’ saved [46080128/46080128]\n",
            "\n",
            "--2022-05-19 23:47:25--  https://storage.googleapis.com/inspirit-ai-data-bucket-1/Data/AI%20Scholars/Sessions%206%20-%2010%20(Projects)/Project%20-%20Emotion%20Detection/dataX_edited.npy\n",
            "Resolving storage.googleapis.com (storage.googleapis.com)... 142.251.10.128, 74.125.200.128, 74.125.68.128, ...\n",
            "Connecting to storage.googleapis.com (storage.googleapis.com)|142.251.10.128|:443... connected.\n",
            "HTTP request sent, awaiting response... 200 OK\n",
            "Length: 364480128 (348M) [application/octet-stream]\n",
            "Saving to: ‘./dataX.npy’\n",
            "\n",
            "./dataX.npy         100%[===================>] 347.59M  54.2MB/s    in 6.9s    \n",
            "\n",
            "2022-05-19 23:47:32 (50.6 MB/s) - ‘./dataX.npy’ saved [364480128/364480128]\n",
            "\n",
            "--2022-05-19 23:47:32--  https://storage.googleapis.com/inspirit-ai-data-bucket-1/Data/AI%20Scholars/Sessions%206%20-%2010%20(Projects)/Project%20-%20Emotion%20Detection/dataY.npy\n",
            "Resolving storage.googleapis.com (storage.googleapis.com)... 142.251.10.128, 74.125.200.128, 74.125.68.128, ...\n",
            "Connecting to storage.googleapis.com (storage.googleapis.com)|142.251.10.128|:443... connected.\n",
            "HTTP request sent, awaiting response... 200 OK\n",
            "Length: 160128 (156K) [application/octet-stream]\n",
            "Saving to: ‘./dataY.npy’\n",
            "\n",
            "./dataY.npy         100%[===================>] 156.38K  --.-KB/s    in 0.002s  \n",
            "\n",
            "2022-05-19 23:47:33 (68.2 MB/s) - ‘./dataY.npy’ saved [160128/160128]\n",
            "\n",
            "Data Downloaded!\n"
          ]
        }
      ]
    },
    {
      "cell_type": "code",
      "metadata": {
        "id": "jcpypKzI-ol0",
        "cellView": "form",
        "colab": {
          "base_uri": "https://localhost:8080/"
        },
        "outputId": "ad359a53-8011-4a98-e9a2-3f20a5665c44"
      },
      "source": [
        "#@title If the previous code cell fails to download the data properly, please run this.\n",
        "import cv2\n",
        "import dlib\n",
        "import pickle\n",
        "import warnings\n",
        "import numpy as np\n",
        "import pandas as pd\n",
        "import seaborn as sns\n",
        "import urllib.request\n",
        "from sklearn import metrics\n",
        "from scipy.spatial import distance\n",
        "from matplotlib import pyplot as plt\n",
        "from sklearn.decomposition import PCA\n",
        "from sklearn.preprocessing import StandardScaler\n",
        "from sklearn.linear_model import LogisticRegression\n",
        "from sklearn.tree import DecisionTreeClassifier \n",
        "from sklearn.neighbors import KNeighborsClassifier\n",
        "from sklearn.model_selection import train_test_split\n",
        "import io\n",
        "\n",
        "###Getting the csv data loaded\n",
        "!wget -O ./ferdata.csv \"https://storage.googleapis.com/inspirit-ai-data-bucket-1/Data/AI%20Scholars/Sessions%206%20-%2010%20(Projects)/Project%20-%20Emotion%20Detection/fer2013_5.csv\"\n",
        "\n",
        "###Getting the Dlib Shape predictor!\n",
        "!wget -O ./shape_predictor_68_face_landmarks.dat \"https://storage.googleapis.com/inspirit-ai-data-bucket-1/Data/AI%20Scholars/Sessions%206%20-%2010%20(Projects)/Project%20-%20Emotion%20Detection/shape_predictor_68_face_landmarks.dat\"\n",
        "\n",
        "###Getting the Xpure loaded\n",
        "!wget -O ./pureX.npy \"https://storage.googleapis.com/inspirit-ai-data-bucket-1/Data/AI%20Scholars/Sessions%206%20-%2010%20(Projects)/Project%20-%20Emotion%20Detection/pureX.npy\"\n",
        "\n",
        "###Getting the Xdata loaded\n",
        "!wget -O ./dataX.npy \"https://storage.googleapis.com/inspirit-ai-data-bucket-1/Data/AI%20Scholars/Sessions%206%20-%2010%20(Projects)/Project%20-%20Emotion%20Detection/dataX_edited.npy\"\n",
        "\n",
        "###Getting the Ydata loaded\n",
        "!wget -O ./dataY.npy \"https://storage.googleapis.com/inspirit-ai-data-bucket-1/Data/AI%20Scholars/Sessions%206%20-%2010%20(Projects)/Project%20-%20Emotion%20Detection/dataY.npy\"\n",
        "\n",
        "print (\"Data Downloaded!\")"
      ],
      "execution_count": null,
      "outputs": [
        {
          "output_type": "stream",
          "name": "stdout",
          "text": [
            "--2022-05-19 23:53:16--  https://storage.googleapis.com/inspirit-ai-data-bucket-1/Data/AI%20Scholars/Sessions%206%20-%2010%20(Projects)/Project%20-%20Emotion%20Detection/fer2013_5.csv\n",
            "Resolving storage.googleapis.com (storage.googleapis.com)... 142.251.10.128, 74.125.200.128, 74.125.68.128, ...\n",
            "Connecting to storage.googleapis.com (storage.googleapis.com)|142.251.10.128|:443... connected.\n",
            "HTTP request sent, awaiting response... 200 OK\n",
            "Length: 167738172 (160M) [text/csv]\n",
            "Saving to: ‘./ferdata.csv’\n",
            "\n",
            "./ferdata.csv       100%[===================>] 159.97M  65.5MB/s    in 2.4s    \n",
            "\n",
            "2022-05-19 23:53:20 (65.5 MB/s) - ‘./ferdata.csv’ saved [167738172/167738172]\n",
            "\n",
            "--2022-05-19 23:53:20--  https://storage.googleapis.com/inspirit-ai-data-bucket-1/Data/AI%20Scholars/Sessions%206%20-%2010%20(Projects)/Project%20-%20Emotion%20Detection/shape_predictor_68_face_landmarks.dat\n",
            "Resolving storage.googleapis.com (storage.googleapis.com)... 74.125.68.128, 74.125.24.128, 142.250.4.128, ...\n",
            "Connecting to storage.googleapis.com (storage.googleapis.com)|74.125.68.128|:443... connected.\n",
            "HTTP request sent, awaiting response... 200 OK\n",
            "Length: 99693937 (95M) [application/octet-stream]\n",
            "Saving to: ‘./shape_predictor_68_face_landmarks.dat’\n",
            "\n",
            "./shape_predictor_6 100%[===================>]  95.08M   246MB/s    in 0.4s    \n",
            "\n",
            "2022-05-19 23:53:20 (246 MB/s) - ‘./shape_predictor_68_face_landmarks.dat’ saved [99693937/99693937]\n",
            "\n",
            "--2022-05-19 23:53:20--  https://storage.googleapis.com/inspirit-ai-data-bucket-1/Data/AI%20Scholars/Sessions%206%20-%2010%20(Projects)/Project%20-%20Emotion%20Detection/pureX.npy\n",
            "Resolving storage.googleapis.com (storage.googleapis.com)... 142.251.10.128, 74.125.200.128, 74.125.68.128, ...\n",
            "Connecting to storage.googleapis.com (storage.googleapis.com)|142.251.10.128|:443... connected.\n",
            "HTTP request sent, awaiting response... 200 OK\n",
            "Length: 46080128 (44M) [application/octet-stream]\n",
            "Saving to: ‘./pureX.npy’\n",
            "\n",
            "./pureX.npy         100%[===================>]  43.95M   218MB/s    in 0.2s    \n",
            "\n",
            "2022-05-19 23:53:21 (218 MB/s) - ‘./pureX.npy’ saved [46080128/46080128]\n",
            "\n",
            "--2022-05-19 23:53:21--  https://storage.googleapis.com/inspirit-ai-data-bucket-1/Data/AI%20Scholars/Sessions%206%20-%2010%20(Projects)/Project%20-%20Emotion%20Detection/dataX_edited.npy\n",
            "Resolving storage.googleapis.com (storage.googleapis.com)... 74.125.68.128, 74.125.24.128, 142.250.4.128, ...\n",
            "Connecting to storage.googleapis.com (storage.googleapis.com)|74.125.68.128|:443... connected.\n",
            "HTTP request sent, awaiting response... 200 OK\n",
            "Length: 364480128 (348M) [application/octet-stream]\n",
            "Saving to: ‘./dataX.npy’\n",
            "\n",
            "./dataX.npy         100%[===================>] 347.59M   219MB/s    in 1.6s    \n",
            "\n",
            "2022-05-19 23:53:23 (219 MB/s) - ‘./dataX.npy’ saved [364480128/364480128]\n",
            "\n",
            "--2022-05-19 23:53:23--  https://storage.googleapis.com/inspirit-ai-data-bucket-1/Data/AI%20Scholars/Sessions%206%20-%2010%20(Projects)/Project%20-%20Emotion%20Detection/dataY.npy\n",
            "Resolving storage.googleapis.com (storage.googleapis.com)... 74.125.200.128, 74.125.68.128, 74.125.24.128, ...\n",
            "Connecting to storage.googleapis.com (storage.googleapis.com)|74.125.200.128|:443... connected.\n",
            "HTTP request sent, awaiting response... 200 OK\n",
            "Length: 160128 (156K) [application/octet-stream]\n",
            "Saving to: ‘./dataY.npy’\n",
            "\n",
            "./dataY.npy         100%[===================>] 156.38K  --.-KB/s    in 0.001s  \n",
            "\n",
            "2022-05-19 23:53:23 (112 MB/s) - ‘./dataY.npy’ saved [160128/160128]\n",
            "\n",
            "Data Downloaded!\n"
          ]
        }
      ]
    },
    {
      "cell_type": "markdown",
      "metadata": {
        "id": "EIrowe2Atd1W"
      },
      "source": [
        "In this notebook we'll be:\n",
        "1.   Understanding and Building Neural Networks\n",
        "2.   Applying Neural Networks to Predict Emotions\n",
        "3.   Implementing CNNs for Emotion Detection\n",
        "4.   Implementing Transfer Learning\n",
        "\n"
      ]
    },
    {
      "cell_type": "markdown",
      "metadata": {
        "id": "xq10yh_OuVlg"
      },
      "source": [
        "#Understanding and building Neural Networks"
      ]
    },
    {
      "cell_type": "markdown",
      "metadata": {
        "id": "OOfhabJ_4hvE"
      },
      "source": [
        "A neural network is a series of algorithms that endeavors to recognize underlying relationships in a set of data through a process that mimics the way the human brain operates. Basically, neural network algorithm helps computers think and learn like humans.\n",
        "\n",
        "The whole idea of artificial neural network is based on the concept of the structure and functions of a human brain. A human brain consists of neurons that process and transmit information between themselves."
      ]
    },
    {
      "cell_type": "markdown",
      "metadata": {
        "id": "4DcLenvXu7th"
      },
      "source": [
        "### Why try neural networks?"
      ]
    },
    {
      "cell_type": "markdown",
      "metadata": {
        "id": "s77Fm2CbvZi7"
      },
      "source": [
        "Our Baseline model performed at ~50 %\n",
        "\n",
        "Human accuracy for fer2013 is around 65 %, suggesting that we could do better!\n",
        "\n",
        "What we require now is a model that can capture more complicated patterns. One class of models that is able to do this and has been very effective for doing this for images are neural networks. \n",
        "\n",
        "\n",
        "### What are neural networks?\n"
      ]
    },
    {
      "cell_type": "markdown",
      "metadata": {
        "id": "ZB_uPibnv2UG"
      },
      "source": [
        "## Instructor-Led Discussion: Building networks\n",
        "\n",
        "To build neural networks in Python, we use the packages known as `tensorflow` and `keras`. Let's learn how to build and use these networks!\n",
        "\n",
        "Tensorflow calls the various machine learning algorithms that it uses 'models'.  These 'models' are 'learning machines.''\n",
        "\n",
        "1. We **teach** models by **training** them on **data**. \n",
        "2. We **use** models to **predict** things. \n",
        "\n",
        "Here is example code for building a Tensorflow model with Keras:"
      ]
    },
    {
      "cell_type": "markdown",
      "metadata": {
        "id": "RUtJ7_FkkPr-"
      },
      "source": [
        "The things you'll want to pay most attention to as we go over how to build networks are: \n",
        "1. The number of neurons\n",
        "2. The activation of the neurons\n",
        "3. The losses and metrics\n",
        "\n",
        "Everything else will work with the default settings!\n",
        "\n",
        "Let's walk though what each of these lines of code means!\n",
        "\n",
        "**1. Specify model**\n",
        "\n",
        "```\n",
        "model = Sequential()\n",
        "```\n",
        "In this line of code, we build our network where the information flows from LEFT to RIGHT through the network in ONE DIRECTION as opposed to multiple directions. Neurons on the right never pass information to neurons on the left of it. \n",
        "\n",
        "\n",
        "**2. Add layers to the network**\n",
        "```\n",
        "model.add(Dense(4,input_shape = (3,), activation = 'sigmoid'))\n",
        "```\n",
        "In this line of code, we `add` a `layer` of neurons to our network. \n",
        "\n",
        "This layer consists of 4 neurons. Each neuron is DENSE and connects to all of the previous layer's inputs and all of the subsequent layers outputs. We specify that there are 3 inputs here.\n",
        "\n",
        "We also specify what kind of output the neuron will give. If you want the neuron to output a number between 0 and 1 (like a probability!) you would use 'softmax' or 'sigmoid'. If you want the neuron to output any number, you can use 'linear'! You'll also often see 'relu', which is when a neuron will only output positive numbers. \n",
        "\n",
        "```\n",
        "model.add(Dense(1, activation = 'linear'))\n",
        "```\n",
        "This code adds ANOTHER layer to the network that has 1 neuron. This one neuron is used to predict a continuous value!\n",
        "\n",
        "**3. Turn the model on by compiling it** \n",
        "\n",
        "After having built the network, we want to train and use it, so we have to 'turn it on' and 'compile' it. To turn it on, we have to specify at the very least, a loss, an optimizer, and some ways of evaluating the model (metrics). Don't worry too much about what this means! Just know that this is necessary. \n",
        "\n",
        "```\n",
        "model.compile(loss='mean_squared_error',\n",
        "               optimizer = 'adam',\n",
        "               metrics = ['mean_squared_error'])\n",
        "  ```\n",
        "  \n",
        "  Once we've created our network, we can use it very simply! Just like we did with `sklearn`, we define our input data (x), the true predictions from that data (y), and then train our model with `fit`. \n",
        "\n",
        "```\n",
        "model.fit(x, y)\n",
        "```\n",
        "\n",
        "To use the model, you can use it to predict something with:\n",
        "```\n",
        "y = model.predict_classes(x)\n",
        "```\n",
        "\n"
      ]
    },
    {
      "cell_type": "markdown",
      "metadata": {
        "id": "FOpGG21Cwpgu"
      },
      "source": [
        "### For reference, this is a lot like the kind of models we've been training with scikit learn.\n",
        "\n",
        "The big difference is that defining the model is more involved. We can look at an example from KNN: \n",
        "\n",
        "```\n",
        "# define the model instance \n",
        "knn = KNeighborsClassifier()\n",
        "\n",
        "# train model with X_train\n",
        "knn.fit(X_train, y_train) \n",
        "\n",
        "# predict testing data\n",
        "y_predict = knn.predict(X_test)\n",
        "\n",
        "```"
      ]
    },
    {
      "cell_type": "markdown",
      "metadata": {
        "id": "YJXxWYXcwoGn"
      },
      "source": [
        "##Exercise: Coding a 2 hidden layer MLP\n",
        "\n",
        "Just as we went over last week, neural networks look something like this: \n",
        "\n",
        "![A 2 layer neural network](https://cdn-images-1.medium.com/max/1600/1*DW0Ccmj1hZ0OvSXi7Kz5MQ.jpeg)\n",
        "\n",
        "Each orange and blue node is a neuron. The network itself is composed of a bunch of neurons that talk to each other and eventually give us a prediction. Let's get a bit more concrete with this..."
      ]
    },
    {
      "cell_type": "markdown",
      "metadata": {
        "id": "2MamYyRf16Ii"
      },
      "source": [
        "### How can we build this network above? Fill in the ___ 's below!"
      ]
    },
    {
      "cell_type": "code",
      "metadata": {
        "id": "oG6SDDQIk9PG"
      },
      "source": [
        "# First, we initialize our model\n",
        "tmp_model = Sequential()\n",
        "\n",
        "# then we add a \"Dense\" (i.e. fully connected) layer\n",
        "tmp_model.add(Dense(7, input_shape=(5,), activation = 'relu')) # for the first layer we specify the input dimensions \n",
        "\n",
        "# then we have to add another layer \n",
        "tmp_model.add(Dense(7, activation = 'relu'))\n",
        "\n",
        "# we end by defining the output layer, which has the number of dimensions of the predictions we're making\n",
        "tmp_model.add(Dense(4, activation = 'linear'))\n",
        "\n",
        "# we finalize the model by \"compiling\" it and defining some other hyperparameters \n",
        "tmp_model.compile(loss='mean_squared_error', optimizer='adam', metrics=['mean_squared_error'])"
      ],
      "execution_count": null,
      "outputs": []
    },
    {
      "cell_type": "markdown",
      "metadata": {
        "id": "-rrqPkJWVLOY"
      },
      "source": [
        "## Exercise: Building our custom neural network"
      ]
    },
    {
      "cell_type": "markdown",
      "metadata": {
        "id": "25DoFvA0VWnq"
      },
      "source": [
        "###Keypoints"
      ]
    },
    {
      "cell_type": "markdown",
      "metadata": {
        "id": "tchJVYOTVZAh"
      },
      "source": [
        "We will build a simple 3-layer network for our first model!\n",
        "\n",
        "\n",
        "For our model, we have as our layers: \n",
        "* Input Layer:  However many inputs there are!\n",
        "* Layer 1 (Hidden): 1024 neurons that are activated by `'relu'` and weights are intialized using `kernel_initializer='glorot_normal'`. Specify the input shape as `(2278,)`.\n",
        "* Layer 2 (Hidden): 512 neurons that are activated by `'relu'` and weights are intialized using `kernel_initializer='glorot_normal'`\n",
        "* Layer 3 (Output): 5 neurons that should have an appropriate activation. \n",
        "* We will compile with the `optimizer = SGD(lr=0.001)` optimizer\n",
        "\n",
        "As a hint for the output activation and the compilation loss, we know that:\n",
        "* Multi-class classification problems require an output activation of `'softmax'` and a loss of `'categorical_crossentropy'`\n",
        "\n",
        "\n"
      ]
    },
    {
      "cell_type": "markdown",
      "metadata": {
        "id": "sv3U4FxbVyfs"
      },
      "source": [
        "###Build your Model (call it `perceptron`)"
      ]
    },
    {
      "cell_type": "code",
      "metadata": {
        "id": "WJh4klMtV3Q_"
      },
      "source": [
        "# set up the model\n",
        "perceptron = Sequential()\n",
        "\n",
        "# first layer \n",
        "perceptron.add(Dense(1024, input_shape=(2278,), activation = 'relu', kernel_initializer='glorot_normal')) # for the first layer we specify the input dimensions \n",
        "\n",
        "# second layer\n",
        "perceptron.add(Dense(512, activation = 'relu', kernel_initializer='glorot_normal'))\n",
        "\n",
        "# output layer\n",
        "perceptron.add(Dense(5, activation = 'softmax')) # convert to probabilities output --\n",
        "\n",
        "# \"compiling\" it\n",
        "perceptron.compile(loss='categorical_crossentropy', optimizer = SGD(lr=0.001), metrics=['mean_squared_error'])\n",
        "#END CODE"
      ],
      "execution_count": null,
      "outputs": []
    },
    {
      "cell_type": "code",
      "metadata": {
        "id": "rWDzNTh9Wm0e",
        "colab": {
          "base_uri": "https://localhost:8080/"
        },
        "outputId": "041a1517-a4a5-4f37-b966-0a7f53adbfce"
      },
      "source": [
        "#@title Run this to test if your model is right! { display-mode: \"form\" }\n",
        "perceptron_answer = Sequential()\n",
        "perceptron_answer.add(Dense(units = 1024, input_shape = (2278,),kernel_initializer='glorot_normal',activation = 'relu'))\n",
        "perceptron_answer.add(Dense(units = 512,kernel_initializer='glorot_normal' , activation = 'relu'))\n",
        "perceptron_answer.add(Dense(units = 5, activation = 'softmax'))\n",
        "    \n",
        "perceptron_answer.compile(\n",
        "    loss='categorical_crossentropy',\n",
        "    optimizer=SGD(lr=0.001),\n",
        "    metrics=['accuracy'])\n",
        "\n",
        "if model_to_string(perceptron) == model_to_string(perceptron_answer):\n",
        "  print('Good job, you specified it correctly!')\n",
        "else: \n",
        "  print('Please check your code again!')"
      ],
      "execution_count": null,
      "outputs": [
        {
          "output_type": "stream",
          "name": "stdout",
          "text": [
            "Good job, you specified it correctly!\n"
          ]
        }
      ]
    },
    {
      "cell_type": "markdown",
      "metadata": {
        "id": "AgQEGSXJueyV"
      },
      "source": [
        "###Keras Neural Network Model Hyperparameters\n",
        "\n",
        "Neural Network performance depends a lot on *how much* they train. As we'll see, they usually get better with more training BUT actually can get worse with too much training. With too much training, our model can get overconfident in its abilities with the training manual (overfitting), and so doesn't actually think (generalize) when it is tested. \n",
        "\n",
        "The  `fit()` function pertain to how the neural networks train. Don't worry too much about the extra options, what really matters for us is that the right data is specified.\n",
        "\n",
        "\n",
        "What are all these options?\n",
        "* `epochs`: how many times the model trains on the entire data set\n",
        "* `batch_size`: number of samples processed at a time\n",
        "* `shuffle`: mixes the training dataset so the model pays better attention to the data and learns better while training\n",
        "* `validation_data`: we request that our model tests itself on the `test_data` after every epoch. **It is essential to use validation data to test for overfitting!**\n",
        "* `callbacks`: With a custom command, we tell our model to save the best version of itself to a model file called `best_dnn_model.h5`. \n"
      ]
    },
    {
      "cell_type": "markdown",
      "metadata": {
        "id": "oeb1iFnZw3W1"
      },
      "source": [
        "#Applying Neural Networks (MLPs) to predicting emotions"
      ]
    },
    {
      "cell_type": "markdown",
      "metadata": {
        "id": "kGdpkyMmqs-G"
      },
      "source": [
        "### Loading and formatting data for all models in notebook "
      ]
    },
    {
      "cell_type": "markdown",
      "metadata": {
        "id": "pf4GspMjAGoE"
      },
      "source": [
        "First, let's try to build a 4-Layer Neural Network  for our training data to achieve accuracy closer to the human accuracy on the dataset (around 65%)\n",
        "\n",
        "We want to identify the key things that we need to design our network. \n",
        "\n",
        "In your group, discuss: \n",
        "\n",
        "* What are our inputs?\n",
        "* What is/are our outputs?\n",
        "\n",
        "How could this look in a neural network diagram?\n",
        "\n",
        "**Show your instructor your diagram once you're done!!**"
      ]
    },
    {
      "cell_type": "markdown",
      "metadata": {
        "id": "G-hJkIeQthKl"
      },
      "source": [
        "##Activity: Train Neural Network on Emotion Dataset"
      ]
    },
    {
      "cell_type": "markdown",
      "metadata": {
        "id": "LDZqO4EMHeSZ"
      },
      "source": [
        "###Set some hyper parameters for all models"
      ]
    },
    {
      "cell_type": "code",
      "metadata": {
        "id": "284_6dNsHiS5"
      },
      "source": [
        "# the number of times we pass all the training data through the model \n",
        "epochs = 20\n",
        "# the number of examples we pass to the model at each time\n",
        "batch_size = 64\n",
        "# the proportion of testing data we set aside (e.g. 10%)\n",
        "test_ratio = .1\n",
        "# the number of emotion categories we have to predict\n",
        "n_labels = 5 "
      ],
      "execution_count": null,
      "outputs": []
    },
    {
      "cell_type": "markdown",
      "metadata": {
        "id": "gNJx9QCE8w8p"
      },
      "source": [
        "###Load the original (unprocessed) data saved on Day 2!"
      ]
    },
    {
      "cell_type": "code",
      "metadata": {
        "id": "oG7AIjf3xWBa"
      },
      "source": [
        "# load data \n",
        "dataX_pixels = np.load('pureX.npy')\n",
        "dataY_labels = np.load('dataY.npy')\n"
      ],
      "execution_count": null,
      "outputs": []
    },
    {
      "cell_type": "markdown",
      "metadata": {
        "id": "7y6HwMAg85jx"
      },
      "source": [
        "### Convert labels to one-hot encoded labels\n",
        "\n",
        "One hot encoding is a representation of categorical variables as binary vectors"
      ]
    },
    {
      "cell_type": "code",
      "metadata": {
        "id": "qA_0acGq9AJN",
        "colab": {
          "base_uri": "https://localhost:8080/"
        },
        "outputId": "2223aec8-18ea-494d-9317-5e2872d55ec7"
      },
      "source": [
        "# convert labels to one hot encoding\n",
        "y_onehot = to_categorical(dataY_labels, len(set(dataY_labels)))\n",
        "print(dataY_labels)\n",
        "# what does this data type look like? "
      ],
      "execution_count": null,
      "outputs": [
        {
          "output_type": "stream",
          "name": "stdout",
          "text": [
            "[0 4 4 ... 0 2 0]\n"
          ]
        }
      ]
    },
    {
      "cell_type": "markdown",
      "source": [
        "<b>Discuss:</b> \n",
        "* What does our `y_onehot` variable look like?\n",
        "* Is it clear how these are two equivalent ways to represent the target?"
      ],
      "metadata": {
        "id": "Cun5Nr3CLkIv"
      }
    },
    {
      "cell_type": "markdown",
      "metadata": {
        "id": "1RodV9eQ71Yz"
      },
      "source": [
        "###Split and Standardize your Data\n",
        "\n"
      ]
    },
    {
      "cell_type": "code",
      "metadata": {
        "id": "cVO4wnTY7rRk"
      },
      "source": [
        "# split Data into Train, Test (90-10)\n",
        "X_train, X_test, y_train, y_test = train_test_split(dataX_pixels, y_onehot, test_size=test_ratio, random_state=42)\n",
        "\n",
        "#### Standardize the data ##########\n",
        "pixel_scaler = StandardScaler()\n",
        "pixel_scaler.fit(X_train)\n",
        "X_train = pixel_scaler.transform(X_train)\n",
        "X_test = pixel_scaler.transform(X_test)"
      ],
      "execution_count": null,
      "outputs": []
    },
    {
      "cell_type": "markdown",
      "metadata": {
        "id": "iaQQkwNsHGSM"
      },
      "source": [
        "## Exercise: Build a simple MLP for emotion detection (call it `mlp_model`)\n"
      ]
    },
    {
      "cell_type": "code",
      "metadata": {
        "id": "QBk3kFJSgQJ0",
        "cellView": "both"
      },
      "source": [
        "# set up model\n",
        "mlp_model = Sequential()\n",
        "\n",
        "# first layer\n",
        "mlp_model.add(Dense(5120, input_shape=(X_train.shape[1],), activation = \"relu\", kernel_initializer='glorot_normal'))\n",
        "\n",
        "# randomly assign half a neuron 0 - avoid overfitting\n",
        "mlp_model.add(Dropout(0.5))\n",
        "\n",
        "#second layer\n",
        "mlp_model.add(Dense(2000, activation = \"tanh\", kernel_initializer='glorot_normal'))\n",
        "\n",
        "# third layer\n",
        "mlp_model.add(Dense(1000, activation = \"relu\", kernel_initializer='glorot_normal'))\n",
        "\n",
        "#output layer\n",
        "mlp_model.add(Dense(n_labels, activation='softmax'))\n"
      ],
      "execution_count": null,
      "outputs": []
    },
    {
      "cell_type": "code",
      "metadata": {
        "id": "IwYofcaXzWVa",
        "colab": {
          "base_uri": "https://localhost:8080/"
        },
        "outputId": "661f10fd-56d8-444e-9c45-41d52f4cd67a"
      },
      "source": [
        "# Compiling the model with SGD optimizer and categorical crossentropy loss\n",
        "mlp_model.compile(loss=categorical_crossentropy, optimizer=SGD(lr=0.001), metrics=['accuracy'])\n",
        "              \n",
        "#Saves the Best Model Based on Val Loss\n",
        "checkpoint = ModelCheckpoint('best_mlp_model.h5', verbose=1, monitor='val_accuracy', save_best_only=True,  mode='auto')  \n",
        "\n",
        "#training the model\n",
        "mlp_history = mlp_model.fit(X_train, y_train, batch_size=batch_size, epochs=epochs, verbose=1, \n",
        "                            callbacks=[checkpoint], validation_data=(X_test, y_test), shuffle=True)"
      ],
      "execution_count": null,
      "outputs": [
        {
          "output_type": "stream",
          "name": "stdout",
          "text": [
            "Epoch 1/10\n",
            "281/282 [============================>.] - ETA: 0s - loss: 1.6114 - accuracy: 0.2757\n",
            "Epoch 1: val_accuracy improved from -inf to 0.31450, saving model to best_mlp_model.h5\n",
            "282/282 [==============================] - 2s 7ms/step - loss: 1.6114 - accuracy: 0.2757 - val_loss: 1.5284 - val_accuracy: 0.3145\n",
            "Epoch 2/10\n",
            "277/282 [============================>.] - ETA: 0s - loss: 1.5326 - accuracy: 0.3232\n",
            "Epoch 2: val_accuracy improved from 0.31450 to 0.35050, saving model to best_mlp_model.h5\n",
            "282/282 [==============================] - 2s 7ms/step - loss: 1.5317 - accuracy: 0.3241 - val_loss: 1.4894 - val_accuracy: 0.3505\n",
            "Epoch 3/10\n",
            "275/282 [============================>.] - ETA: 0s - loss: 1.4839 - accuracy: 0.3568\n",
            "Epoch 3: val_accuracy improved from 0.35050 to 0.38450, saving model to best_mlp_model.h5\n",
            "282/282 [==============================] - 2s 7ms/step - loss: 1.4839 - accuracy: 0.3567 - val_loss: 1.4538 - val_accuracy: 0.3845\n",
            "Epoch 4/10\n",
            "282/282 [==============================] - ETA: 0s - loss: 1.4556 - accuracy: 0.3763\n",
            "Epoch 4: val_accuracy improved from 0.38450 to 0.39200, saving model to best_mlp_model.h5\n",
            "282/282 [==============================] - 2s 7ms/step - loss: 1.4556 - accuracy: 0.3763 - val_loss: 1.4433 - val_accuracy: 0.3920\n",
            "Epoch 5/10\n",
            "278/282 [============================>.] - ETA: 0s - loss: 1.4374 - accuracy: 0.3835\n",
            "Epoch 5: val_accuracy improved from 0.39200 to 0.40650, saving model to best_mlp_model.h5\n",
            "282/282 [==============================] - 2s 7ms/step - loss: 1.4372 - accuracy: 0.3844 - val_loss: 1.4203 - val_accuracy: 0.4065\n",
            "Epoch 6/10\n",
            "276/282 [============================>.] - ETA: 0s - loss: 1.4188 - accuracy: 0.3921\n",
            "Epoch 6: val_accuracy improved from 0.40650 to 0.41550, saving model to best_mlp_model.h5\n",
            "282/282 [==============================] - 2s 7ms/step - loss: 1.4197 - accuracy: 0.3918 - val_loss: 1.4027 - val_accuracy: 0.4155\n",
            "Epoch 7/10\n",
            "275/282 [============================>.] - ETA: 0s - loss: 1.4085 - accuracy: 0.4018\n",
            "Epoch 7: val_accuracy improved from 0.41550 to 0.42050, saving model to best_mlp_model.h5\n",
            "282/282 [==============================] - 2s 7ms/step - loss: 1.4078 - accuracy: 0.4022 - val_loss: 1.4039 - val_accuracy: 0.4205\n",
            "Epoch 8/10\n",
            "277/282 [============================>.] - ETA: 0s - loss: 1.3924 - accuracy: 0.4150\n",
            "Epoch 8: val_accuracy did not improve from 0.42050\n",
            "282/282 [==============================] - 2s 6ms/step - loss: 1.3920 - accuracy: 0.4147 - val_loss: 1.3949 - val_accuracy: 0.4115\n",
            "Epoch 9/10\n",
            "277/282 [============================>.] - ETA: 0s - loss: 1.3775 - accuracy: 0.4162\n",
            "Epoch 9: val_accuracy did not improve from 0.42050\n",
            "282/282 [==============================] - 2s 6ms/step - loss: 1.3785 - accuracy: 0.4166 - val_loss: 1.3957 - val_accuracy: 0.4135\n",
            "Epoch 10/10\n",
            "276/282 [============================>.] - ETA: 0s - loss: 1.3722 - accuracy: 0.4262\n",
            "Epoch 10: val_accuracy improved from 0.42050 to 0.42450, saving model to best_mlp_model.h5\n",
            "282/282 [==============================] - 2s 7ms/step - loss: 1.3723 - accuracy: 0.4262 - val_loss: 1.3755 - val_accuracy: 0.4245\n"
          ]
        }
      ]
    },
    {
      "cell_type": "markdown",
      "metadata": {
        "id": "qF0MmGV8Lm7y"
      },
      "source": [
        "##Neural Network Model Evaluation on pixel inputs"
      ]
    },
    {
      "cell_type": "markdown",
      "metadata": {
        "id": "ORXi0y71t3o8"
      },
      "source": [
        "###Evaluate best model"
      ]
    },
    {
      "cell_type": "code",
      "metadata": {
        "id": "DnjfotXoth4e",
        "colab": {
          "base_uri": "https://localhost:8080/"
        },
        "outputId": "99721f47-3520-4d98-f0a5-c24eddc85540"
      },
      "source": [
        "mlp_performance = mlp_model.evaluate(X_test, y_test, batch_size=64)"
      ],
      "execution_count": null,
      "outputs": [
        {
          "output_type": "stream",
          "name": "stdout",
          "text": [
            "32/32 [==============================] - 0s 4ms/step - loss: 1.3755 - accuracy: 0.4245\n"
          ]
        }
      ]
    },
    {
      "cell_type": "markdown",
      "metadata": {
        "id": "3vgEP7OnGlR9"
      },
      "source": [
        "###Visualize accuracy and loss over training + display best model's performance"
      ]
    },
    {
      "cell_type": "code",
      "metadata": {
        "id": "ktHNwzn0G73y",
        "colab": {
          "base_uri": "https://localhost:8080/",
          "height": 310
        },
        "outputId": "8638623e-6d4e-4c21-f8b6-f919aee26a0a"
      },
      "source": [
        "plot_graphs(mlp_history, mlp_performance); "
      ],
      "execution_count": null,
      "outputs": [
        {
          "output_type": "display_data",
          "data": {
            "text/plain": [
              "<Figure size 720x288 with 2 Axes>"
            ],
            "image/png": "[encoded data removed]"
          },
          "metadata": {
            "needs_background": "light"
          }
        }
      ]
    },
    {
      "cell_type": "markdown",
      "metadata": {
        "id": "oPeyL20OFzjN"
      },
      "source": [
        "###Plot the Confusion Matrix"
      ]
    },
    {
      "cell_type": "code",
      "metadata": {
        "id": "MgkxPwg2F7eL",
        "colab": {
          "base_uri": "https://localhost:8080/",
          "height": 313
        },
        "outputId": "68230ff9-f7b9-4a9d-a303-9ab6523834a9"
      },
      "source": [
        "y_pred_mlp = mlp_model.predict(X_test)\n",
        "y_pred_mlp_classes = np.argmax(y_pred_mlp, axis=1)\n",
        "y_true = np.argmax(y_test,axis=1)\n",
        "plot_confusion_matrix(y_true, y_pred_mlp_classes)"
      ],
      "execution_count": null,
      "outputs": [
        {
          "output_type": "stream",
          "name": "stdout",
          "text": [
            "Plotting the Confusion Matrix\n"
          ]
        },
        {
          "output_type": "display_data",
          "data": {
            "text/plain": [
              "<Figure size 432x288 with 2 Axes>"
            ],
            "image/png": "[encoded data removed]"
          },
          "metadata": {
            "needs_background": "light"
          }
        }
      ]
    },
    {
      "cell_type": "markdown",
      "metadata": {
        "id": "XqLIJTjW0JE_"
      },
      "source": [
        "##Neural Network Model Evaluation on distance inputs\n",
        "\n",
        "We saw yesterday that building a model on the distances between facial landmarks did better than on raw pixel inputs, is this true for these models as well? \n",
        "\n",
        "Run the cell below to split and standardize your distance inputs!"
      ]
    },
    {
      "cell_type": "code",
      "metadata": {
        "id": "k-aKmK6e0a4J"
      },
      "source": [
        "#Load the data (Distances between facial Landmarks)\n",
        "dataX_lm = np.load('./dataX.npy')\n",
        "\n",
        "# split Data into Train, Test (90-10)\n",
        "X_train_lm, X_test_lm, y_train_lm, y_test_lm = train_test_split(dataX_lm, y_onehot, test_size=0.1, random_state=42)\n",
        "\n",
        "#### Standardize the data #####\n",
        "lm_scaler = StandardScaler()\n",
        "lm_scaler.fit(X_train_lm)\n",
        "X_train_lm = lm_scaler.transform(X_train_lm)\n",
        "X_test_lm = lm_scaler.transform(X_test_lm)"
      ],
      "execution_count": null,
      "outputs": []
    },
    {
      "cell_type": "markdown",
      "source": [
        "Build your model (call it `lm_model`) below:"
      ],
      "metadata": {
        "id": "R2_Cm8LXs6nz"
      }
    },
    {
      "cell_type": "code",
      "metadata": {
        "id": "OPub4NX31R3q"
      },
      "source": [
        "#YOUR CODE HERE"
      ],
      "execution_count": null,
      "outputs": []
    },
    {
      "cell_type": "code",
      "metadata": {
        "id": "_QEUcTxh7Ara"
      },
      "source": [
        "# Compiling the model with SGD optimizer and categorical crossentropy loss\n",
        "lm_model.compile(loss=categorical_crossentropy, optimizer=SGD(lr=0.001), metrics=['accuracy'])\n",
        "\n",
        "#Saves the Best Model Based on Val Loss\n",
        "checkpoint = ModelCheckpoint('best_lm_model.h5', verbose=1, monitor='val_loss',save_best_only=True,  mode='auto')  \n",
        "#training the model\n",
        "lm_history = lm_model.fit(X_train_lm, y_train_lm, batch_size=batch_size, epochs=epochs, \n",
        "                          verbose=1, callbacks=[checkpoint], validation_data=(X_test_lm, y_test_lm), shuffle=True)"
      ],
      "execution_count": null,
      "outputs": []
    },
    {
      "cell_type": "markdown",
      "metadata": {
        "id": "Xb2ruZoq1YPO"
      },
      "source": [
        "### Evaluate model"
      ]
    },
    {
      "cell_type": "code",
      "metadata": {
        "id": "IBOe-N6NgQag"
      },
      "source": [
        "# YOUR CODE HERE"
      ],
      "execution_count": null,
      "outputs": []
    },
    {
      "cell_type": "markdown",
      "metadata": {
        "id": "yj3XDT2eu31x"
      },
      "source": [
        "###Visualize accuracy and loss over training + display best model's performance"
      ]
    },
    {
      "cell_type": "code",
      "metadata": {
        "id": "kG1V_8AIs9Xf"
      },
      "source": [
        "# YOUR CODE HERE"
      ],
      "execution_count": null,
      "outputs": []
    },
    {
      "cell_type": "markdown",
      "metadata": {
        "id": "1Xk6GHxUgiY6"
      },
      "source": [
        "## Instructor-Led Discussion\n",
        "\n",
        "What are some differences between the our pixel input model and our distance input model?"
      ]
    },
    {
      "cell_type": "markdown",
      "metadata": {
        "id": "lX9zvfvrAtrj"
      },
      "source": [
        "#Convolutional Neural Networks for Emotion Detection!"
      ]
    },
    {
      "cell_type": "markdown",
      "metadata": {
        "id": "jXuDr1x1CZYP"
      },
      "source": [
        "###Model Hyperparameters"
      ]
    },
    {
      "cell_type": "code",
      "metadata": {
        "id": "OvPqbBy8Cc1G"
      },
      "source": [
        "# we'll use the same epochs and batch size as above\n",
        "width, height = 48, 48"
      ],
      "execution_count": null,
      "outputs": []
    },
    {
      "cell_type": "markdown",
      "metadata": {
        "id": "wTH-IlrL0HVE"
      },
      "source": [
        "###Reshape the inputs"
      ]
    },
    {
      "cell_type": "code",
      "metadata": {
        "id": "DwTlyCBk6FOd",
        "colab": {
          "base_uri": "https://localhost:8080/"
        },
        "outputId": "a8fec8e4-e894-47e1-fd6e-904775711631"
      },
      "source": [
        "# pixels were vectors\n",
        "print(X_train.shape) "
      ],
      "execution_count": null,
      "outputs": [
        {
          "output_type": "stream",
          "name": "stdout",
          "text": [
            "(18000, 2304)\n"
          ]
        }
      ]
    },
    {
      "cell_type": "code",
      "metadata": {
        "id": "NNSP1-vz6Lnk",
        "colab": {
          "base_uri": "https://localhost:8080/"
        },
        "outputId": "6de2737e-85b9-4e08-bb7f-c7456d93d1fe"
      },
      "source": [
        "X_train_cnn = X_train.reshape(len(X_train),height,width)\n",
        "X_test_cnn = X_test.reshape(len(X_test),height,width)\n",
        "\n",
        "# we've converted them to images\n",
        "print(X_train_cnn.shape) \n",
        "# now we add one more dimension for model compatibility\n",
        "print(X_test_cnn.shape) \n"
      ],
      "execution_count": null,
      "outputs": [
        {
          "output_type": "stream",
          "name": "stdout",
          "text": [
            "(18000, 48, 48)\n",
            "(2000, 48, 48)\n"
          ]
        }
      ]
    },
    {
      "cell_type": "code",
      "metadata": {
        "id": "RFP5S57i69o7",
        "colab": {
          "base_uri": "https://localhost:8080/"
        },
        "outputId": "36e2c7a6-e47e-4bc2-fe32-6ee13f8abf1a"
      },
      "source": [
        "# now we add one more dimension for model compatibility\n",
        "X_train_cnn = np.expand_dims(X_train_cnn,3)\n",
        "X_test_cnn = np.expand_dims(X_test_cnn,3)\n",
        "\n",
        "print(X_train_cnn.shape)"
      ],
      "execution_count": null,
      "outputs": [
        {
          "output_type": "stream",
          "name": "stdout",
          "text": [
            "(18000, 48, 48, 1)\n"
          ]
        }
      ]
    },
    {
      "cell_type": "markdown",
      "source": [
        "### Build our model\n",
        "Change the hyperparameters in the model below and feel free to add more layers!"
      ],
      "metadata": {
        "id": "RkGSeDG9vwho"
      }
    },
    {
      "cell_type": "code",
      "metadata": {
        "id": "fnI75Z1yDylH",
        "cellView": "both"
      },
      "source": [
        "# layers are stacked linear\n",
        "cnn_model = Sequential()\n",
        "\n",
        "# When adding a convolutional two layer model, the first number is the how many filter used , filter shape (3,3) \n",
        "# activation functions help the network learn complex patterns in the data.\n",
        "cnn_model.add(Conv2D(64, kernel_size=(3, 3), activation='relu', input_shape=(width, height, 1), kernel_regularizer=l2(0.01)))\n",
        "cnn_model.add(Conv2D(64, kernel_size=(3, 3), activation='relu', padding='same'))\n",
        "# Batch normalization accelerates training\n",
        "cnn_model.add(BatchNormalization())\n",
        "# Max pooling is done to in part to help over-fitting by providing an abstracted form of the representation. (pic)\n",
        "cnn_model.add(MaxPooling2D(pool_size=(2, 2), strides=(2, 2)))\n",
        "# Dropout works by randomly disabling neurons and their corresponding connections.\n",
        "cnn_model.add(Dropout(0.5))\n",
        "\n",
        "\n",
        "cnn_model.add(Conv2D(128, kernel_size=(3, 3), activation='relu', padding='same'))\n",
        "cnn_model.add(BatchNormalization())\n",
        "cnn_model.add(Conv2D(128, kernel_size=(3, 3), activation='relu', padding='same'))\n",
        "cnn_model.add(BatchNormalization())\n",
        "cnn_model.add(MaxPooling2D(pool_size=(2, 2), strides=(2, 2)))\n",
        "cnn_model.add(Dropout(0.5))\n",
        "\n",
        "cnn_model.add(Conv2D(256, kernel_size=(3, 3), activation='relu', padding='same'))\n",
        "cnn_model.add(BatchNormalization())\n",
        "cnn_model.add(Conv2D(256, kernel_size=(3, 3), activation='relu', padding='same'))\n",
        "cnn_model.add(BatchNormalization())\n",
        "cnn_model.add(MaxPooling2D(pool_size=(2, 2), strides=(2, 2)))\n",
        "cnn_model.add(Dropout(0.5))\n",
        "\n",
        "cnn_model.add(Conv2D(512, kernel_size=(3, 3), activation='relu', padding='same'))\n",
        "cnn_model.add(BatchNormalization())\n",
        "cnn_model.add(Conv2D(512, kernel_size=(3, 3), activation='relu', padding='same'))\n",
        "cnn_model.add(BatchNormalization())\n",
        "cnn_model.add(MaxPooling2D(pool_size=(2, 2), strides=(2, 2)))\n",
        "cnn_model.add(Dropout(0.5))\n",
        "\n",
        "cnn_model.add(Flatten())\n",
        "\n",
        "cnn_model.add(Dense(512, activation='relu'))\n",
        "cnn_model.add(Dropout(0.4))\n",
        "cnn_model.add(Dense(256, activation='relu'))\n",
        "cnn_model.add(Dropout(0.4))\n",
        "cnn_model.add(Dense(128, activation='relu'))\n",
        "cnn_model.add(Dropout(0.5))\n",
        "cnn_model.add(Dense(n_labels, activation='softmax'))"
      ],
      "execution_count": null,
      "outputs": []
    },
    {
      "cell_type": "code",
      "metadata": {
        "id": "YqirnWL8wDGR",
        "colab": {
          "base_uri": "https://localhost:8080/"
        },
        "outputId": "381ea268-7ed1-484c-9166-df96c5c9debb"
      },
      "source": [
        "#Saves the Best Model Based on Val Loss\n",
        "checkpoint = ModelCheckpoint('best_cnn_model.h5', verbose=1, monitor='val_loss',save_best_only=True, mode='auto')  \n",
        "\n",
        "# compliling the model with adam optimizer and categorical crossentropy loss\n",
        "cnn_model.compile(loss=categorical_crossentropy, optimizer=Adam(lr=0.001, beta_1=0.9, beta_2=0.999), metrics=['accuracy'])\n",
        "\n",
        "# training the model\n",
        "cnn_history = cnn_model.fit(X_train_cnn, y_train, batch_size=batch_size, epochs=20, verbose=1, \n",
        "                            callbacks=[checkpoint], validation_data=(X_test_cnn, y_test), shuffle=True)"
      ],
      "execution_count": null,
      "outputs": [
        {
          "output_type": "stream",
          "name": "stdout",
          "text": [
            "Epoch 1/20\n",
            "282/282 [==============================] - ETA: 0s - loss: 1.6561 - accuracy: 0.2197\n",
            "Epoch 1: val_loss improved from inf to 1.61228, saving model to best_cnn_model.h5\n",
            "282/282 [==============================] - 16s 46ms/step - loss: 1.6561 - accuracy: 0.2197 - val_loss: 1.6123 - val_accuracy: 0.2140\n",
            "Epoch 2/20\n",
            "282/282 [==============================] - ETA: 0s - loss: 1.6078 - accuracy: 0.2255\n",
            "Epoch 2: val_loss improved from 1.61228 to 1.59559, saving model to best_cnn_model.h5\n",
            "282/282 [==============================] - 13s 45ms/step - loss: 1.6078 - accuracy: 0.2255 - val_loss: 1.5956 - val_accuracy: 0.2660\n",
            "Epoch 3/20\n",
            "281/282 [============================>.] - ETA: 0s - loss: 1.5750 - accuracy: 0.2549\n",
            "Epoch 3: val_loss improved from 1.59559 to 1.48678, saving model to best_cnn_model.h5\n",
            "282/282 [==============================] - 13s 45ms/step - loss: 1.5751 - accuracy: 0.2548 - val_loss: 1.4868 - val_accuracy: 0.3155\n",
            "Epoch 4/20\n",
            "281/282 [============================>.] - ETA: 0s - loss: 1.4775 - accuracy: 0.3201\n",
            "Epoch 4: val_loss did not improve from 1.48678\n",
            "282/282 [==============================] - 13s 45ms/step - loss: 1.4778 - accuracy: 0.3201 - val_loss: 1.5935 - val_accuracy: 0.3315\n",
            "Epoch 5/20\n",
            "281/282 [============================>.] - ETA: 0s - loss: 1.4208 - accuracy: 0.3473\n",
            "Epoch 5: val_loss improved from 1.48678 to 1.35523, saving model to best_cnn_model.h5\n",
            "282/282 [==============================] - 13s 45ms/step - loss: 1.4209 - accuracy: 0.3471 - val_loss: 1.3552 - val_accuracy: 0.3860\n",
            "Epoch 6/20\n",
            "282/282 [==============================] - ETA: 0s - loss: 1.3486 - accuracy: 0.4014\n",
            "Epoch 6: val_loss improved from 1.35523 to 1.21427, saving model to best_cnn_model.h5\n",
            "282/282 [==============================] - 13s 45ms/step - loss: 1.3486 - accuracy: 0.4014 - val_loss: 1.2143 - val_accuracy: 0.4635\n",
            "Epoch 7/20\n",
            "282/282 [==============================] - ETA: 0s - loss: 1.2799 - accuracy: 0.4409\n",
            "Epoch 7: val_loss improved from 1.21427 to 1.20492, saving model to best_cnn_model.h5\n",
            "282/282 [==============================] - 13s 46ms/step - loss: 1.2799 - accuracy: 0.4409 - val_loss: 1.2049 - val_accuracy: 0.4395\n",
            "Epoch 8/20\n",
            "282/282 [==============================] - ETA: 0s - loss: 1.2303 - accuracy: 0.4623\n",
            "Epoch 8: val_loss improved from 1.20492 to 1.15528, saving model to best_cnn_model.h5\n",
            "282/282 [==============================] - 13s 46ms/step - loss: 1.2303 - accuracy: 0.4623 - val_loss: 1.1553 - val_accuracy: 0.5085\n",
            "Epoch 9/20\n",
            "281/282 [============================>.] - ETA: 0s - loss: 1.1843 - accuracy: 0.5016\n",
            "Epoch 9: val_loss improved from 1.15528 to 1.07387, saving model to best_cnn_model.h5\n",
            "282/282 [==============================] - 13s 46ms/step - loss: 1.1848 - accuracy: 0.5015 - val_loss: 1.0739 - val_accuracy: 0.5730\n",
            "Epoch 10/20\n",
            "282/282 [==============================] - ETA: 0s - loss: 1.1377 - accuracy: 0.5339\n",
            "Epoch 10: val_loss did not improve from 1.07387\n",
            "282/282 [==============================] - 13s 45ms/step - loss: 1.1377 - accuracy: 0.5339 - val_loss: 1.1239 - val_accuracy: 0.5580\n",
            "Epoch 11/20\n",
            "281/282 [============================>.] - ETA: 0s - loss: 1.0987 - accuracy: 0.5494\n",
            "Epoch 11: val_loss improved from 1.07387 to 1.00355, saving model to best_cnn_model.h5\n",
            "282/282 [==============================] - 13s 47ms/step - loss: 1.0987 - accuracy: 0.5493 - val_loss: 1.0036 - val_accuracy: 0.5890\n",
            "Epoch 12/20\n",
            "281/282 [============================>.] - ETA: 0s - loss: 1.0649 - accuracy: 0.5711\n",
            "Epoch 12: val_loss improved from 1.00355 to 0.99933, saving model to best_cnn_model.h5\n",
            "282/282 [==============================] - 13s 46ms/step - loss: 1.0649 - accuracy: 0.5713 - val_loss: 0.9993 - val_accuracy: 0.5970\n",
            "Epoch 13/20\n",
            "281/282 [============================>.] - ETA: 0s - loss: 1.0402 - accuracy: 0.5884\n",
            "Epoch 13: val_loss did not improve from 0.99933\n",
            "282/282 [==============================] - 13s 45ms/step - loss: 1.0401 - accuracy: 0.5884 - val_loss: 1.0287 - val_accuracy: 0.6040\n",
            "Epoch 14/20\n",
            "282/282 [==============================] - ETA: 0s - loss: 1.0000 - accuracy: 0.6043\n",
            "Epoch 14: val_loss improved from 0.99933 to 0.94674, saving model to best_cnn_model.h5\n",
            "282/282 [==============================] - 13s 46ms/step - loss: 1.0000 - accuracy: 0.6043 - val_loss: 0.9467 - val_accuracy: 0.6335\n",
            "Epoch 15/20\n",
            "281/282 [============================>.] - ETA: 0s - loss: 0.9843 - accuracy: 0.6090\n",
            "Epoch 15: val_loss improved from 0.94674 to 0.94645, saving model to best_cnn_model.h5\n",
            "282/282 [==============================] - 13s 46ms/step - loss: 0.9843 - accuracy: 0.6091 - val_loss: 0.9464 - val_accuracy: 0.6375\n",
            "Epoch 16/20\n",
            "281/282 [============================>.] - ETA: 0s - loss: 0.9405 - accuracy: 0.6303\n",
            "Epoch 16: val_loss improved from 0.94645 to 0.94567, saving model to best_cnn_model.h5\n",
            "282/282 [==============================] - 13s 46ms/step - loss: 0.9409 - accuracy: 0.6303 - val_loss: 0.9457 - val_accuracy: 0.6485\n",
            "Epoch 17/20\n",
            "281/282 [============================>.] - ETA: 0s - loss: 0.9283 - accuracy: 0.6420\n",
            "Epoch 17: val_loss did not improve from 0.94567\n",
            "282/282 [==============================] - 13s 46ms/step - loss: 0.9284 - accuracy: 0.6421 - val_loss: 0.9606 - val_accuracy: 0.6380\n",
            "Epoch 18/20\n",
            "281/282 [============================>.] - ETA: 0s - loss: 0.8910 - accuracy: 0.6562\n",
            "Epoch 18: val_loss improved from 0.94567 to 0.90435, saving model to best_cnn_model.h5\n",
            "282/282 [==============================] - 13s 46ms/step - loss: 0.8914 - accuracy: 0.6561 - val_loss: 0.9044 - val_accuracy: 0.6515\n",
            "Epoch 19/20\n",
            "281/282 [============================>.] - ETA: 0s - loss: 0.8677 - accuracy: 0.6703\n",
            "Epoch 19: val_loss improved from 0.90435 to 0.88839, saving model to best_cnn_model.h5\n",
            "282/282 [==============================] - 13s 47ms/step - loss: 0.8674 - accuracy: 0.6705 - val_loss: 0.8884 - val_accuracy: 0.6700\n",
            "Epoch 20/20\n",
            "281/282 [============================>.] - ETA: 0s - loss: 0.8513 - accuracy: 0.6758\n",
            "Epoch 20: val_loss did not improve from 0.88839\n",
            "282/282 [==============================] - 13s 45ms/step - loss: 0.8514 - accuracy: 0.6758 - val_loss: 0.9195 - val_accuracy: 0.6635\n"
          ]
        }
      ]
    },
    {
      "cell_type": "markdown",
      "metadata": {
        "id": "wXprpaHpxVb-"
      },
      "source": [
        "###Evaluate the model"
      ]
    },
    {
      "cell_type": "code",
      "metadata": {
        "id": "JvCbnwZ_CBYv"
      },
      "source": [
        "# YOUR CODE HERE"
      ],
      "execution_count": null,
      "outputs": []
    },
    {
      "cell_type": "markdown",
      "metadata": {
        "id": "cDmHi_05BKnr"
      },
      "source": [
        "###Plot Accuracy and Loss"
      ]
    },
    {
      "cell_type": "code",
      "metadata": {
        "id": "YdRZz5w2ixwO"
      },
      "source": [
        "# YOUR CODE HERE "
      ],
      "execution_count": null,
      "outputs": []
    },
    {
      "cell_type": "markdown",
      "metadata": {
        "id": "hzLSZVH0jdG0"
      },
      "source": [
        "## Instructor-Led Discussion\n",
        "\n",
        "How does this model compare with the others? Did this perform as well as we wanted it to? What might be some of the reasons why?"
      ]
    },
    {
      "cell_type": "markdown",
      "metadata": {
        "id": "_eqKTSlRmEGF"
      },
      "source": [
        "#Transfer Learning"
      ]
    },
    {
      "cell_type": "code",
      "metadata": {
        "id": "OPpE58jJmIdY"
      },
      "source": [
        "#@title Run this to build your transfer learning model { display-mode: \"form\" }\n",
        "\n",
        "import keras\n",
        "from keras.models import Sequential\n",
        "from keras.layers import Activation, MaxPooling2D, Dropout, Flatten, Reshape, Dense, Conv2D, GlobalAveragePooling2D\n",
        "from keras.wrappers.scikit_learn import KerasClassifier\n",
        "from keras.applications.vgg16 import VGG16\n",
        "\n",
        "# load the vgg network that is an 'expert' at 'imagenet' but do not include the FC layers\n",
        "vgg_expert = VGG16(weights = 'imagenet', include_top = False, input_shape = (48, 48, 3))\n",
        "\n",
        "# we add the first 12 layers of vgg to our own model vgg_model\n",
        "vgg_model = Sequential()\n",
        "vgg_model.add(vgg_expert)\n",
        "\n",
        "# and then add our own layers on top of it\n",
        "vgg_model.add(GlobalAveragePooling2D())\n",
        "vgg_model.add(Dense(1024, activation = 'relu'))\n",
        "vgg_model.add(Dropout(0.3))\n",
        "vgg_model.add(Dense(512, activation = 'relu'))\n",
        "vgg_model.add(Dropout(0.3))\n",
        "vgg_model.add(Dense(5, activation = 'sigmoid'))\n",
        "\n",
        "# finally, we build the vgg model and turn it on so we can use it!\n",
        "vgg_model.compile(loss = 'categorical_crossentropy', \n",
        "          optimizer = SGD(lr=1e-4, momentum=0.95), \n",
        "          metrics=['accuracy'])\n",
        "\n",
        "X_TRAIN = np.array([np.transpose(np.array([X_train_cnn[ix].squeeze() for i in range(3)]), (1,2,0)) for ix in range(len(X_train))])\n",
        "X_TEST = np.array([np.transpose(np.array([X_test_cnn[ix].squeeze() for i in range(3)]), (1,2,0)) for ix in range(len(X_test))])\n",
        "\n",
        "#training the model\n",
        "vgg_history = vgg_model.fit(X_TRAIN, y_train,\n",
        "          batch_size=batch_size,\n",
        "          epochs=epochs,\n",
        "          verbose=1,\n",
        "          callbacks=[checkpoint],\n",
        "          validation_data=(X_TEST, y_test),\n",
        "          shuffle=True)"
      ],
      "execution_count": null,
      "outputs": []
    },
    {
      "cell_type": "markdown",
      "metadata": {
        "id": "rwABV9sHAclF"
      },
      "source": [
        "###Evaluate model"
      ]
    },
    {
      "cell_type": "markdown",
      "metadata": {
        "id": "EjquMpMmAZEo"
      },
      "source": [
        "###Visualize accuracy and loss over training + display best model's performance"
      ]
    },
    {
      "cell_type": "code",
      "metadata": {
        "id": "OflGd8RFsrTX"
      },
      "source": [
        "# YOUR CODE HERE"
      ],
      "execution_count": null,
      "outputs": []
    },
    {
      "cell_type": "code",
      "metadata": {
        "id": "60FJChkPc7iY"
      },
      "source": [
        "compare_learning(mlp_history, lm_history, cnn_history, vgg_history)"
      ],
      "execution_count": null,
      "outputs": []
    },
    {
      "cell_type": "markdown",
      "metadata": {
        "id": "y2qlLKUhfxlw"
      },
      "source": [
        "## Optional Instructor Appendix: Code to determine some reference accuracy scores"
      ]
    },
    {
      "cell_type": "code",
      "metadata": {
        "id": "pom2p1w0a9f0"
      },
      "source": [
        "from sklearn.neighbors import KNeighborsClassifier\n",
        "\n",
        "# pixel-based knn classification accuracy... this will take a few minutes \n",
        "knn_pixel = KNeighborsClassifier(n_neighbors=3)\n",
        "knn_pixel.fit(X_train, y_train)\n",
        "knn_predictions_pixel = knn_pixel.predict(X_test)\n",
        "knn_accuracy_pixel = np.mean(knn_predictions_pixel.argmax(1) == y_test.argmax(1))\n",
        "\n",
        "# landmark-based knn classification accuracy... this will take a few minutes \n",
        "knn_lm = KNeighborsClassifier(n_neighbors=3)\n",
        "knn_lm.fit(X_train_lm, y_train_lm)\n",
        "knn_predictions_lm = knn_lm.predict(X_test_lm)\n",
        "knn_accuracy_lm = np.mean( knn_predictions_lm.argmax(1) == y_test_lm.argmax(1))\n",
        "\n",
        "# chance accuracy\n",
        "chance_accuracy = 1/n_labels\n",
        "\n",
        "# human accuracy\n",
        "human_accuracy = .65 "
      ],
      "execution_count": null,
      "outputs": []
    },
    {
      "cell_type": "code",
      "metadata": {
        "id": "ZGeWzybl_Kpi"
      },
      "source": [
        "def compare_learning(mlp, lm, cnn, vgg, benchmarks): \n",
        "\n",
        "  plt.figure(figsize=[7, 5])  \n",
        "\n",
        "  # summarize history for accuracy\n",
        "\n",
        "  plt.xticks(range(4, epochs+1,5), range(5, epochs+1,5) )\n",
        "  \n",
        "  plt.title('Performance of multiple models across training', y=1.05, fontsize=15)\n",
        "\n",
        "  plt.ylim([.15, .72])\n",
        "\n",
        "  plt.plot(lm.history['val_accuracy'], linestyle='-', color='purple', )\n",
        "  plt.plot(mlp.history['val_accuracy'], linestyle='--', color='purple')\n",
        "\n",
        "  plt.plot(vgg.history['val_accuracy'],color='blue', linestyle='-', linewidth=2)\n",
        "  plt.plot(cnn.history['val_accuracy'],color='red', linestyle='-', linewidth=2)\n",
        "  \n",
        "  plt.ylabel('Accuracy', fontsize=15)\n",
        "  plt.xlabel('Training Epoch', fontsize=15)\n",
        "\n",
        "\n",
        "  plt.legend(['MLP''$_{landmarks}$', 'MLP''$_{pixels}$', 'CNN''$_{pretrained}$', 'CNN''$_{from.scratch}$'],\n",
        "             framealpha=0, title_fontsize=9,loc=8)\n",
        "\n",
        "  plt.xticks(range(4, epochs+1,5), range(5, epochs+1,5) )\n",
        "  plt.ylim([.11, .72])\n",
        "\n",
        "  for i_benchmark in benchmarks: \n",
        "    plt.scatter(x=epochs, y=references[i_benchmark], color='black', marker='_', s=200) \n",
        "    plt.annotate('%s: %d%%'%( i_benchmark, references[i_benchmark] *100), xy=(epochs+1, references[i_benchmark]-.005), size=10, color='black', ha='left') \n",
        "  plt.annotate('Important References', xy=(epochs+.5, .69), size=10, color='black', ha='left', fontweight='bold') \n",
        "\n",
        "  plt.ylim([.11, .72])\n",
        "  plt.gca().spines['right'].set_color('none')\n",
        "  plt.gca().spines['top'].set_color('none')\n",
        "\n",
        "  plt.show()"
      ],
      "execution_count": null,
      "outputs": []
    },
    {
      "cell_type": "code",
      "metadata": {
        "id": "TgWZro30q0dt"
      },
      "source": [
        "references = {'$KNN_{pixel}$ Accuracy': knn_accuracy_pixel, '$KNN_{landmark}$ Accuracy': knn_accuracy_lm, 'Human Accuracy': human_accuracy, 'chance': chance_accuracy}"
      ],
      "execution_count": null,
      "outputs": []
    },
    {
      "cell_type": "code",
      "metadata": {
        "id": "A-V2HVMOGRZ-"
      },
      "source": [
        "compare_learning(mlp_history, lm_history, cnn_history, vgg_history, references)"
      ],
      "execution_count": null,
      "outputs": []
    },
    {
      "cell_type": "markdown",
      "metadata": {
        "id": "-kmm2fWDBtfW"
      },
      "source": [
        "##How can we explain this pattern of performance across all these models?"
      ]
    },
    {
      "cell_type": "markdown",
      "metadata": {
        "id": "SRW9UiFbBoAK"
      },
      "source": [
        "# Finished :D"
      ]
    }
  ]
}